{
 "cells": [
  {
   "cell_type": "code",
   "execution_count": 7,
   "metadata": {},
   "outputs": [],
   "source": [
    "import pandas as pd\n",
    "import pulp"
   ]
  },
  {
   "cell_type": "code",
   "execution_count": 2,
   "metadata": {},
   "outputs": [],
   "source": [
    "player = pd.read_csv('fplAnalytics-playerStautsData.csv')"
   ]
  },
  {
   "cell_type": "code",
   "execution_count": 3,
   "metadata": {},
   "outputs": [],
   "source": [
    "# Filter to only available players\n",
    "available = player[player['status'] == 'Available']"
   ]
  },
  {
   "cell_type": "markdown",
   "metadata": {},
   "source": [
    "Cost effectiveness:\n",
    "Money is a very limited resource in FPL. If I have all the money in the world, I'll have a Liverpool + Man City squad. To justify the investment, I'm calculating the point per cost ratio for the best value."
   ]
  },
  {
   "cell_type": "code",
   "execution_count": 5,
   "metadata": {},
   "outputs": [],
   "source": [
    "# Correct way to create the 'ppc' column\n",
    "available.loc[:, 'ppc'] = available['total_points'] / available['cost']"
   ]
  },
  {
   "cell_type": "code",
   "execution_count": 8,
   "metadata": {},
   "outputs": [
    {
     "name": "stdout",
     "output_type": "stream",
     "text": [
      "Status: Optimal\n",
      "\n",
      "Selected Players (sorted by position):\n",
      "Aina (DEF)\n",
      "Alexander-Arnold (DEF)\n",
      "Gabriel (DEF)\n",
      "Isak (FWD)\n",
      "Wissa (FWD)\n",
      "Wood (FWD)\n",
      "Sels (GKP)\n",
      "Amad (MID)\n",
      "Gordon (MID)\n",
      "M.Salah (MID)\n",
      "Mbeumo (MID)\n",
      "\n",
      "Total Points per Game: 64.0\n"
     ]
    }
   ],
   "source": [
    "# 1. Create the PuLP problem\n",
    "prob = pulp.LpProblem(\"FPL_Optimization\", pulp.LpMaximize)\n",
    "\n",
    "# 2. Define the player variables\n",
    "player_vars = pulp.LpVariable.dicts(\"player\", available.index, cat='Binary')\n",
    "\n",
    "# 3. Add the objective function\n",
    "prob += pulp.lpSum([available.loc[i, 'points_per_game'] * player_vars[i] for i in available.index])\n",
    "\n",
    "# 4. Add the constraints\n",
    "#   a. Position constraints\n",
    "prob += pulp.lpSum([player_vars[i] for i in available.index if available.loc[i, 'position'] == 'GKP']) == 1\n",
    "prob += pulp.lpSum([player_vars[i] for i in available.index if available.loc[i, 'position'] == 'DEF']) == 3\n",
    "prob += pulp.lpSum([player_vars[i] for i in available.index if available.loc[i, 'position'] == 'MID']) == 4\n",
    "prob += pulp.lpSum([player_vars[i] for i in available.index if available.loc[i, 'position'] == 'FWD']) == 3\n",
    "\n",
    "#   b. Cost constraint\n",
    "prob += pulp.lpSum([available.loc[i, 'cost'] * player_vars[i] for i in available.index]) <= 83.4\n",
    "\n",
    "#   c. Team constraint \n",
    "for team in available['team'].unique():\n",
    "    prob += pulp.lpSum([player_vars[i] for i in available.index if available.loc[i, 'team'] == team]) <= 3 \n",
    "\n",
    "#   d. Minutes constraint\n",
    "for i in available.index:\n",
    "    if available.loc[i, 'minutes'] < 1200:\n",
    "        prob += player_vars[i] == 0  # Don't select players with less than 1200 minutes\n",
    "\n",
    "# 5. Solve the problem\n",
    "prob.solve()\n",
    "print(\"Status:\", pulp.LpStatus[prob.status])\n",
    "\n",
    "# 6. Print the optimal solution (selected players with positions, sorted by position)\n",
    "print(\"\\nSelected Players (sorted by position):\")\n",
    "\n",
    "selected_players = []\n",
    "for v in prob.variables():\n",
    "    if v.varValue == 1:\n",
    "        player_index = int(v.name.split('_')[1]) \n",
    "        player_name = available.loc[player_index, 'name']\n",
    "        player_position = available.loc[player_index, 'position']\n",
    "        selected_players.append((player_position, player_name))  # Store as tuples\n",
    "\n",
    "selected_players.sort()  # Sort by position\n",
    "\n",
    "for position, name in selected_players:\n",
    "    print(f\"{name} ({position})\") \n",
    "\n",
    "#print toal points per game\n",
    "print(\"\\nTotal Points per Game:\", pulp.value(prob.objective))"
   ]
  },
  {
   "cell_type": "markdown",
   "metadata": {},
   "source": []
  }
 ],
 "metadata": {
  "kernelspec": {
   "display_name": "Python 3",
   "language": "python",
   "name": "python3"
  },
  "language_info": {
   "codemirror_mode": {
    "name": "ipython",
    "version": 3
   },
   "file_extension": ".py",
   "mimetype": "text/x-python",
   "name": "python",
   "nbconvert_exporter": "python",
   "pygments_lexer": "ipython3",
   "version": "3.11.9"
  }
 },
 "nbformat": 4,
 "nbformat_minor": 2
}
